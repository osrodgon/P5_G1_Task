{
 "cells": [
  {
   "cell_type": "markdown",
   "id": "657462a7",
   "metadata": {},
   "source": [
    "# Comparar los modelos de regresión L1, L2 y Elastic-Net\n",
    "Vamos a crear un notebook para implementar ejemplos sencillos de los modelos de regresión L1, L2 y Elastic-Net.\n",
    "\n",
    "Usaremos datos ya precargados de los precios de las casas en california."
   ]
  },
  {
   "cell_type": "markdown",
   "id": "9cc32831",
   "metadata": {},
   "source": [
    "1.  **Configuración e Importación de Librerías:**\n",
    "    *   Se importan las librerías esenciales para el análisis: `numpy`, `pandas`, `matplotlib` y, por supuesto, `sklearn` para el modelado y preprocesamiento."
   ]
  },
  {
   "cell_type": "code",
   "execution_count": 126,
   "id": "f762be37",
   "metadata": {},
   "outputs": [],
   "source": [
    "# First step is to install the required libraries. You can use the included \"requirements.txt\" file or install them manually\n",
    "# Uncomment the the following two lines to install them.\n",
    "\n",
    "#%pip install scikit-learn\n",
    "#%pip install pandas\n",
    "#%pip install matplotlib\n",
    "\n",
    "# Load the dataset\n",
    "import pandas as pd\n",
    "from sklearn.datasets import fetch_california_housing\n",
    "\n",
    "housing = fetch_california_housing()\n",
    "df = pd.DataFrame(housing.data, columns=housing.feature_names)\n",
    "df['MedHouseVal'] = housing.target\n",
    "\n",
    "# "
   ]
  },
  {
   "cell_type": "markdown",
   "id": "07770197",
   "metadata": {},
   "source": [
    "2. **Mostrar información del dataset, y explicar las columnas**"
   ]
  },
  {
   "cell_type": "code",
   "execution_count": 127,
   "id": "e9670f02",
   "metadata": {},
   "outputs": [
    {
     "name": "stdout",
     "output_type": "stream",
     "text": [
      "First 5 rows of the dataset:\n"
     ]
    },
    {
     "data": {
      "application/vnd.microsoft.datawrangler.viewer.v0+json": {
       "columns": [
        {
         "name": "index",
         "rawType": "int64",
         "type": "integer"
        },
        {
         "name": "MedInc",
         "rawType": "float64",
         "type": "float"
        },
        {
         "name": "HouseAge",
         "rawType": "float64",
         "type": "float"
        },
        {
         "name": "AveRooms",
         "rawType": "float64",
         "type": "float"
        },
        {
         "name": "AveBedrms",
         "rawType": "float64",
         "type": "float"
        },
        {
         "name": "Population",
         "rawType": "float64",
         "type": "float"
        },
        {
         "name": "AveOccup",
         "rawType": "float64",
         "type": "float"
        },
        {
         "name": "Latitude",
         "rawType": "float64",
         "type": "float"
        },
        {
         "name": "Longitude",
         "rawType": "float64",
         "type": "float"
        },
        {
         "name": "MedHouseVal",
         "rawType": "float64",
         "type": "float"
        }
       ],
       "ref": "8df05505-1b0b-471a-9d40-00c5d057f178",
       "rows": [
        [
         "0",
         "8.3252",
         "41.0",
         "6.984126984126984",
         "1.0238095238095237",
         "322.0",
         "2.5555555555555554",
         "37.88",
         "-122.23",
         "4.526"
        ],
        [
         "1",
         "8.3014",
         "21.0",
         "6.238137082601054",
         "0.9718804920913884",
         "2401.0",
         "2.109841827768014",
         "37.86",
         "-122.22",
         "3.585"
        ],
        [
         "2",
         "7.2574",
         "52.0",
         "8.288135593220339",
         "1.073446327683616",
         "496.0",
         "2.8022598870056497",
         "37.85",
         "-122.24",
         "3.521"
        ],
        [
         "3",
         "5.6431",
         "52.0",
         "5.8173515981735155",
         "1.0730593607305936",
         "558.0",
         "2.547945205479452",
         "37.85",
         "-122.25",
         "3.413"
        ],
        [
         "4",
         "3.8462",
         "52.0",
         "6.281853281853282",
         "1.0810810810810811",
         "565.0",
         "2.1814671814671813",
         "37.85",
         "-122.25",
         "3.422"
        ]
       ],
       "shape": {
        "columns": 9,
        "rows": 5
       }
      },
      "text/html": [
       "<div>\n",
       "<style scoped>\n",
       "    .dataframe tbody tr th:only-of-type {\n",
       "        vertical-align: middle;\n",
       "    }\n",
       "\n",
       "    .dataframe tbody tr th {\n",
       "        vertical-align: top;\n",
       "    }\n",
       "\n",
       "    .dataframe thead th {\n",
       "        text-align: right;\n",
       "    }\n",
       "</style>\n",
       "<table border=\"1\" class=\"dataframe\">\n",
       "  <thead>\n",
       "    <tr style=\"text-align: right;\">\n",
       "      <th></th>\n",
       "      <th>MedInc</th>\n",
       "      <th>HouseAge</th>\n",
       "      <th>AveRooms</th>\n",
       "      <th>AveBedrms</th>\n",
       "      <th>Population</th>\n",
       "      <th>AveOccup</th>\n",
       "      <th>Latitude</th>\n",
       "      <th>Longitude</th>\n",
       "      <th>MedHouseVal</th>\n",
       "    </tr>\n",
       "  </thead>\n",
       "  <tbody>\n",
       "    <tr>\n",
       "      <th>0</th>\n",
       "      <td>8.3252</td>\n",
       "      <td>41.0</td>\n",
       "      <td>6.984127</td>\n",
       "      <td>1.023810</td>\n",
       "      <td>322.0</td>\n",
       "      <td>2.555556</td>\n",
       "      <td>37.88</td>\n",
       "      <td>-122.23</td>\n",
       "      <td>4.526</td>\n",
       "    </tr>\n",
       "    <tr>\n",
       "      <th>1</th>\n",
       "      <td>8.3014</td>\n",
       "      <td>21.0</td>\n",
       "      <td>6.238137</td>\n",
       "      <td>0.971880</td>\n",
       "      <td>2401.0</td>\n",
       "      <td>2.109842</td>\n",
       "      <td>37.86</td>\n",
       "      <td>-122.22</td>\n",
       "      <td>3.585</td>\n",
       "    </tr>\n",
       "    <tr>\n",
       "      <th>2</th>\n",
       "      <td>7.2574</td>\n",
       "      <td>52.0</td>\n",
       "      <td>8.288136</td>\n",
       "      <td>1.073446</td>\n",
       "      <td>496.0</td>\n",
       "      <td>2.802260</td>\n",
       "      <td>37.85</td>\n",
       "      <td>-122.24</td>\n",
       "      <td>3.521</td>\n",
       "    </tr>\n",
       "    <tr>\n",
       "      <th>3</th>\n",
       "      <td>5.6431</td>\n",
       "      <td>52.0</td>\n",
       "      <td>5.817352</td>\n",
       "      <td>1.073059</td>\n",
       "      <td>558.0</td>\n",
       "      <td>2.547945</td>\n",
       "      <td>37.85</td>\n",
       "      <td>-122.25</td>\n",
       "      <td>3.413</td>\n",
       "    </tr>\n",
       "    <tr>\n",
       "      <th>4</th>\n",
       "      <td>3.8462</td>\n",
       "      <td>52.0</td>\n",
       "      <td>6.281853</td>\n",
       "      <td>1.081081</td>\n",
       "      <td>565.0</td>\n",
       "      <td>2.181467</td>\n",
       "      <td>37.85</td>\n",
       "      <td>-122.25</td>\n",
       "      <td>3.422</td>\n",
       "    </tr>\n",
       "  </tbody>\n",
       "</table>\n",
       "</div>"
      ],
      "text/plain": [
       "   MedInc  HouseAge  AveRooms  AveBedrms  Population  AveOccup  Latitude  \\\n",
       "0  8.3252      41.0  6.984127   1.023810       322.0  2.555556     37.88   \n",
       "1  8.3014      21.0  6.238137   0.971880      2401.0  2.109842     37.86   \n",
       "2  7.2574      52.0  8.288136   1.073446       496.0  2.802260     37.85   \n",
       "3  5.6431      52.0  5.817352   1.073059       558.0  2.547945     37.85   \n",
       "4  3.8462      52.0  6.281853   1.081081       565.0  2.181467     37.85   \n",
       "\n",
       "   Longitude  MedHouseVal  \n",
       "0    -122.23        4.526  \n",
       "1    -122.22        3.585  \n",
       "2    -122.24        3.521  \n",
       "3    -122.25        3.413  \n",
       "4    -122.25        3.422  "
      ]
     },
     "metadata": {},
     "output_type": "display_data"
    },
    {
     "name": "stdout",
     "output_type": "stream",
     "text": [
      "\n",
      "Dataset Info:\n",
      "<class 'pandas.core.frame.DataFrame'>\n",
      "RangeIndex: 20640 entries, 0 to 20639\n",
      "Data columns (total 9 columns):\n",
      " #   Column       Non-Null Count  Dtype  \n",
      "---  ------       --------------  -----  \n",
      " 0   MedInc       20640 non-null  float64\n",
      " 1   HouseAge     20640 non-null  float64\n",
      " 2   AveRooms     20640 non-null  float64\n",
      " 3   AveBedrms    20640 non-null  float64\n",
      " 4   Population   20640 non-null  float64\n",
      " 5   AveOccup     20640 non-null  float64\n",
      " 6   Latitude     20640 non-null  float64\n",
      " 7   Longitude    20640 non-null  float64\n",
      " 8   MedHouseVal  20640 non-null  float64\n",
      "dtypes: float64(9)\n",
      "memory usage: 1.4 MB\n",
      "\n",
      "Column Explanation:\n",
      "MedInc: Median income in block group\n",
      "HouseAge: Median house age in block group\n",
      "AveRooms: Average number of rooms per household\n",
      "AveBedrms: Average number of bedrooms per household\n",
      "Population: Block group population\n",
      "AveOccup: Average number of household members\n",
      "Latitude: Block group latitude\n",
      "Longitude: Block group longitude\n",
      "MedHouseVal: Median house value for California districts (Dependent Variable)\n"
     ]
    }
   ],
   "source": [
    "# Display the first few rows and info\n",
    "print(\"First 5 rows of the dataset:\")\n",
    "display(df.head())\n",
    "print(\"\\nDataset Info:\")\n",
    "df.info()\n",
    "\n",
    "# Explanation of columns\n",
    "print(\"\\nColumn Explanation:\")\n",
    "print(\"MedInc: Median income in block group\")\n",
    "print(\"HouseAge: Median house age in block group\")\n",
    "print(\"AveRooms: Average number of rooms per household\")\n",
    "print(\"AveBedrms: Average number of bedrooms per household\")\n",
    "print(\"Population: Block group population\")\n",
    "print(\"AveOccup: Average number of household members\")\n",
    "print(\"Latitude: Block group latitude\")\n",
    "print(\"Longitude: Block group longitude\")\n",
    "print(\"MedHouseVal: Median house value for California districts (Dependent Variable)\")"
   ]
  },
  {
   "cell_type": "markdown",
   "id": "f4db3f6e",
   "metadata": {},
   "source": [
    "3. **Identificar variables dependientes e independientes**"
   ]
  },
  {
   "cell_type": "code",
   "execution_count": 128,
   "id": "46fe8dc4",
   "metadata": {},
   "outputs": [
    {
     "name": "stdout",
     "output_type": "stream",
     "text": [
      "\n",
      "Dependent Variable: MedHouseVal\n",
      "Independent Variables: ['MedInc', 'HouseAge', 'AveRooms', 'AveBedrms', 'Population', 'AveOccup', 'Latitude', 'Longitude']\n"
     ]
    }
   ],
   "source": [
    "# Identify dependent and independent variables\n",
    "dependent_variable = 'MedHouseVal'\n",
    "independent_variables = housing.feature_names\n",
    "\n",
    "print(f\"\\nDependent Variable: {dependent_variable}\")\n",
    "print(f\"Independent Variables: {list(independent_variables)}\")"
   ]
  },
  {
   "cell_type": "markdown",
   "id": "4e1f862e",
   "metadata": {},
   "source": [
    "4. **Preparación de los datos.** Para ello, crearemos lo siguiente:\n",
    "- Dataset para las variables dependientes\n",
    "- Dataset para las variables independientes\n",
    "- Preparar los datos de entrenamiento y de pruebas. Reservaremos un 20% de los datos en el dataset para ser usados como datos de prueba.\n",
    "    - Variables dependientes para entrenar\n",
    "    - Variables dependientes de prueba\n",
    "    - Variables independientes para entrenar\n",
    "    - Variables independientes de prueba"
   ]
  },
  {
   "cell_type": "code",
   "execution_count": 129,
   "id": "2fe0a7c2",
   "metadata": {},
   "outputs": [
    {
     "name": "stdout",
     "output_type": "stream",
     "text": [
      "Independent variables scaled successfully.\n"
     ]
    }
   ],
   "source": [
    "from sklearn.model_selection import train_test_split\n",
    "from sklearn.preprocessing import StandardScaler\n",
    "\n",
    "# Split the data into training and testing sets\n",
    "df_independent_variables = df[independent_variables]\n",
    "df_dependent_variable = df[dependent_variable]\n",
    "independent_train, independent_test, dependent_train, dependent_test = train_test_split(df_independent_variables, df_dependent_variable, test_size=0.2, random_state=42)\n",
    "\n",
    "# Instantiate and fit the scaler to the training data\n",
    "scaler = StandardScaler()\n",
    "independent_train_scaled = scaler.fit_transform(independent_train)\n",
    "\n",
    "# Transform both training and testing data\n",
    "independent_test_scaled = scaler.transform(independent_test)\n",
    "\n",
    "print(\"Independent variables scaled successfully.\")"
   ]
  },
  {
   "cell_type": "markdown",
   "id": "dfa119d1",
   "metadata": {},
   "source": [
    "5.  **Modelo 2: Regularización L1 (Lasso):**\n",
    "    *   A continuación, se explora la Regresión Lasso. Su penalización L1 ($\\alpha \\sum |w_i|$) no solo reduce los coeficientes, sino que puede anular por completo los de las características menos relevantes. Esto convierte a Lasso en una poderosa herramienta para la **selección automática de características**, generando modelos más simples (dispersos).\n"
   ]
  },
  {
   "cell_type": "code",
   "execution_count": 130,
   "id": "f82ea106",
   "metadata": {},
   "outputs": [
    {
     "name": "stdout",
     "output_type": "stream",
     "text": [
      "Lasso Model Coefficients:\n",
      "[ 0.59851956  0.         -0.         -0.         -0.         -0.\n",
      " -0.         -0.        ]\n"
     ]
    }
   ],
   "source": [
    "from sklearn.linear_model import Lasso\n",
    "\n",
    "# Instantiate a Lasso model\n",
    "lasso_model = Lasso(alpha=0.2)\n",
    "\n",
    "# Fit the Lasso model to the scaled training data\n",
    "lasso_model.fit(independent_train_scaled, dependent_train)\n",
    "\n",
    "# Print the coefficients of the trained Lasso model\n",
    "print(\"Lasso Model Coefficients:\")\n",
    "print(lasso_model.coef_)\n",
    "\n",
    "# Explanation: Lasso (L1) regression can set some coefficients exactly to zero,\n",
    "# effectively discarding the corresponding independent variables from the model.\n",
    "# The variables with coefficients of exactly 0 are considered discarded by the model."
   ]
  },
  {
   "cell_type": "markdown",
   "id": "12054ec6",
   "metadata": {},
   "source": [
    "6.  **Modelo 1: Regularización L2 (Ridge):**\n",
    "    *   Se introduce la Regresión de Ridge, que combate el sobreajuste añadiendo una penalización L2 ($\\alpha \\sum w_i^2$). Esta penalización contrae los coeficientes hacia cero, mejorando la estabilidad del modelo, especialmente con multicolinealidad. A diferencia de Lasso, Ridge no anula completamente los coeficientes.\n"
   ]
  },
  {
   "cell_type": "code",
   "execution_count": 131,
   "id": "25aad6bf",
   "metadata": {},
   "outputs": [
    {
     "name": "stdout",
     "output_type": "stream",
     "text": [
      "Ridge Model Coefficients:\n",
      "[ 0.85437179  0.1225618  -0.29437018  0.33920917 -0.00230261 -0.04082989\n",
      " -0.8967765  -0.86968745]\n"
     ]
    }
   ],
   "source": [
    "from sklearn.linear_model import Ridge\n",
    "\n",
    "# Instantiate a Ridge model\n",
    "ridge_model = Ridge(alpha=0.2)\n",
    "\n",
    "# Fit the Ridge model to the scaled training data\n",
    "ridge_model.fit(independent_train_scaled, dependent_train)\n",
    "\n",
    "# Print the coefficients of the trained Ridge model\n",
    "print(\"Ridge Model Coefficients:\")\n",
    "print(ridge_model.coef_)\n",
    "\n",
    "# Explanation: Ridge regression shrinks the coefficients towards zero but does not set them exactly to zero.\n",
    "# This means that no variables are completely discarded, although their impact on the prediction is reduced."
   ]
  },
  {
   "cell_type": "markdown",
   "id": "2795d3a0",
   "metadata": {},
   "source": [
    "7.  **Modelo 3: Regularización Elastic Net:**\n",
    "    *   Elastic Net se presenta como la solución que combina lo mejor de ambos mundos. Su penalización es una mezcla de L1 y L2, lo que le permite realizar selección de características (como Lasso) y manejar eficazmente grupos de variables correlacionadas (una debilidad de Lasso).\n"
   ]
  },
  {
   "cell_type": "code",
   "execution_count": 132,
   "id": "83d31282",
   "metadata": {},
   "outputs": [
    {
     "name": "stdout",
     "output_type": "stream",
     "text": [
      "Elastic-Net Model Coefficients:\n",
      "[ 0.64386711  0.08940862 -0.         -0.         -0.         -0.\n",
      " -0.01498904 -0.        ]\n"
     ]
    }
   ],
   "source": [
    "from sklearn.linear_model import ElasticNet\n",
    "\n",
    "# Instantiate an ElasticNet model\n",
    "# Elastic-Net is a linear regression model with combined L1 and L2 priors as regularizer.\n",
    "# alpha is a constant that multiplies the penalty terms and thus determines the degree of regularization.\n",
    "# l1_ratio corresponds to the Elastic-Net mixing parameter, with 0 <= l1_ratio <= 1.\n",
    "# l1_ratio = 0 corresponds to L2 penalty, l1_ratio = 1 to L1 penalty.\n",
    "elastic_net_model = ElasticNet(alpha=0.2, l1_ratio=0.5, random_state=42)\n",
    "\n",
    "# Fit the ElasticNet model to the scaled training data\n",
    "elastic_net_model.fit(independent_train_scaled, dependent_train)\n",
    "\n",
    "# Print the coefficients of the trained ElasticNet model\n",
    "print(\"Elastic-Net Model Coefficients:\")\n",
    "print(elastic_net_model.coef_)\n",
    "\n",
    "# Explanation: Elastic-Net combines L1 (Lasso) and L2 (Ridge) regularization.\n",
    "# The L1 penalty encourages sparsity, potentially setting some coefficients to zero (variable selection).\n",
    "# The L2 penalty encourages smaller coefficients, shrinking them towards zero but rarely exactly to zero.\n",
    "# The l1_ratio parameter controls the mix between L1 and L2. A ratio of 0.5 means an equal mix.\n",
    "# This combination allows Elastic-Net to perform both variable selection and coefficient shrinkage.\n",
    "# Variables with coefficients of exactly 0 are discarded, while others are shrunk."
   ]
  },
  {
   "cell_type": "markdown",
   "id": "3575e7ae",
   "metadata": {},
   "source": [
    "8. **Grafica de resultados**\n",
    "Se muestra una gráfica de los tres metodos entrenados con parametros aleatorios. Podemos observar que L2 (Ridge) nos esta dando valores negativos."
   ]
  },
  {
   "cell_type": "code",
   "execution_count": 133,
   "id": "aec830ea",
   "metadata": {},
   "outputs": [
    {
     "name": "stderr",
     "output_type": "stream",
     "text": [
      "/home/vscode/.local/lib/python3.12/site-packages/sklearn/utils/validation.py:2749: UserWarning: X does not have valid feature names, but StandardScaler was fitted with feature names\n",
      "  warnings.warn(\n"
     ]
    },
    {
     "data": {
      "image/png": "[encoded data removed]",
      "text/plain": [
       "<Figure size 1200x600 with 1 Axes>"
      ]
     },
     "metadata": {},
     "output_type": "display_data"
    }
   ],
   "source": [
    "import matplotlib.pyplot as plt\n",
    "import numpy as np\n",
    "\n",
    "# Select a single feature for plotting (e.g., 'MedInc')\n",
    "# You can change this to any other feature in independent_variables\n",
    "feature_to_plot = 'MedInc'\n",
    "feature_index = independent_variables.index(feature_to_plot)\n",
    "\n",
    "# Get the scaled data for the selected feature\n",
    "X_plot = independent_train_scaled[:, feature_index]\n",
    "\n",
    "# Create a range of values for the selected feature to plot the regression line\n",
    "# We need to unscale these values to match the original data scale for plotting\n",
    "# To do this correctly for plotting with a single feature, we need to create a dummy array with the correct number of features (8)\n",
    "# and fill it with the unscaled single feature data at the correct index.\n",
    "dummy_array_unscaled = np.zeros((100, len(independent_variables)))\n",
    "dummy_array_unscaled[:, feature_index] = np.linspace(independent_train[feature_to_plot].min(), independent_train[feature_to_plot].max(), 100)\n",
    "X_plot_range = dummy_array_unscaled\n",
    "\n",
    "# Scale the range for prediction\n",
    "X_plot_range_scaled = scaler.transform(X_plot_range)\n",
    "\n",
    "# Predict using each model\n",
    "y_lasso_plot = lasso_model.predict(X_plot_range_scaled)\n",
    "y_ridge_plot = ridge_model.predict(X_plot_range_scaled)\n",
    "y_elastic_net_plot = elastic_net_model.predict(X_plot_range_scaled)\n",
    "\n",
    "# Plot the original data and the regression lines\n",
    "plt.figure(figsize=(12, 6))\n",
    "\n",
    "# Scatter plot of the original data for the selected feature\n",
    "plt.scatter(independent_train[feature_to_plot], dependent_train, alpha=0.2, label='Datos de Entrenamiento')\n",
    "\n",
    "\n",
    "# Plot Lasso regression line\n",
    "# We need to use the unscaled X_plot_range for plotting the regression lines to align with the scatter plot\n",
    "plt.plot(X_plot_range[:, feature_index], y_lasso_plot, color='green', label='Lasso Regression (L1)')\n",
    "\n",
    "# Plot Ridge regression line\n",
    "plt.plot(X_plot_range[:, feature_index], y_ridge_plot, color='red', label='Ridge Regression (L2)')\n",
    "\n",
    "# Plot Elastic-Net regression line\n",
    "plt.plot(X_plot_range[:, feature_index], y_elastic_net_plot, color='purple', label='Elastic-Net Regression')\n",
    "\n",
    "plt.xlabel(feature_to_plot)\n",
    "plt.ylabel(dependent_variable)\n",
    "plt.title(f'Visualización de Regresiones con {feature_to_plot}')\n",
    "plt.legend()\n",
    "plt.grid(True)\n",
    "plt.show()"
   ]
  },
  {
   "cell_type": "markdown",
   "id": "b0dc01be",
   "metadata": {},
   "source": [
    "9. **Comparación de resultados y explicacion**\n",
    "Aqui vemos una comparación de los resultados de cada una de las regresiones y las variables independientes que se descartan o \"encogen\" para cada uno de los métodos."
   ]
  },
  {
   "cell_type": "code",
   "execution_count": 134,
   "id": "cc3eec5f",
   "metadata": {},
   "outputs": [
    {
     "name": "stdout",
     "output_type": "stream",
     "text": [
      "Comparison of Model Coefficients:\n"
     ]
    },
    {
     "data": {
      "application/vnd.microsoft.datawrangler.viewer.v0+json": {
       "columns": [
        {
         "name": "index",
         "rawType": "object",
         "type": "string"
        },
        {
         "name": "Lasso",
         "rawType": "float64",
         "type": "float"
        },
        {
         "name": "Ridge",
         "rawType": "float64",
         "type": "float"
        },
        {
         "name": "Elastic-Net",
         "rawType": "float64",
         "type": "float"
        }
       ],
       "ref": "4c7bbda2-45e1-4634-b483-36a99dca616d",
       "rows": [
        [
         "MedInc",
         "0.5985195644260352",
         "0.8543717944822805",
         "0.6438671063935872"
        ],
        [
         "HouseAge",
         "0.0",
         "0.1225617990511072",
         "0.0894086152326368"
        ],
        [
         "AveRooms",
         "-0.0",
         "-0.29437018052293173",
         "-0.0"
        ],
        [
         "AveBedrms",
         "-0.0",
         "0.3392091698240213",
         "-0.0"
        ],
        [
         "Population",
         "-0.0",
         "-0.002302614954314353",
         "-0.0"
        ],
        [
         "AveOccup",
         "-0.0",
         "-0.04082988722451206",
         "-0.0"
        ],
        [
         "Latitude",
         "-0.0",
         "-0.8967764961624215",
         "-0.014989040066849754"
        ],
        [
         "Longitude",
         "-0.0",
         "-0.8696874470002497",
         "-0.0"
        ]
       ],
       "shape": {
        "columns": 3,
        "rows": 8
       }
      },
      "text/html": [
       "<div>\n",
       "<style scoped>\n",
       "    .dataframe tbody tr th:only-of-type {\n",
       "        vertical-align: middle;\n",
       "    }\n",
       "\n",
       "    .dataframe tbody tr th {\n",
       "        vertical-align: top;\n",
       "    }\n",
       "\n",
       "    .dataframe thead th {\n",
       "        text-align: right;\n",
       "    }\n",
       "</style>\n",
       "<table border=\"1\" class=\"dataframe\">\n",
       "  <thead>\n",
       "    <tr style=\"text-align: right;\">\n",
       "      <th></th>\n",
       "      <th>Lasso</th>\n",
       "      <th>Ridge</th>\n",
       "      <th>Elastic-Net</th>\n",
       "    </tr>\n",
       "  </thead>\n",
       "  <tbody>\n",
       "    <tr>\n",
       "      <th>MedInc</th>\n",
       "      <td>0.59852</td>\n",
       "      <td>0.854372</td>\n",
       "      <td>0.643867</td>\n",
       "    </tr>\n",
       "    <tr>\n",
       "      <th>HouseAge</th>\n",
       "      <td>0.00000</td>\n",
       "      <td>0.122562</td>\n",
       "      <td>0.089409</td>\n",
       "    </tr>\n",
       "    <tr>\n",
       "      <th>AveRooms</th>\n",
       "      <td>-0.00000</td>\n",
       "      <td>-0.294370</td>\n",
       "      <td>-0.000000</td>\n",
       "    </tr>\n",
       "    <tr>\n",
       "      <th>AveBedrms</th>\n",
       "      <td>-0.00000</td>\n",
       "      <td>0.339209</td>\n",
       "      <td>-0.000000</td>\n",
       "    </tr>\n",
       "    <tr>\n",
       "      <th>Population</th>\n",
       "      <td>-0.00000</td>\n",
       "      <td>-0.002303</td>\n",
       "      <td>-0.000000</td>\n",
       "    </tr>\n",
       "    <tr>\n",
       "      <th>AveOccup</th>\n",
       "      <td>-0.00000</td>\n",
       "      <td>-0.040830</td>\n",
       "      <td>-0.000000</td>\n",
       "    </tr>\n",
       "    <tr>\n",
       "      <th>Latitude</th>\n",
       "      <td>-0.00000</td>\n",
       "      <td>-0.896776</td>\n",
       "      <td>-0.014989</td>\n",
       "    </tr>\n",
       "    <tr>\n",
       "      <th>Longitude</th>\n",
       "      <td>-0.00000</td>\n",
       "      <td>-0.869687</td>\n",
       "      <td>-0.000000</td>\n",
       "    </tr>\n",
       "  </tbody>\n",
       "</table>\n",
       "</div>"
      ],
      "text/plain": [
       "              Lasso     Ridge  Elastic-Net\n",
       "MedInc      0.59852  0.854372     0.643867\n",
       "HouseAge    0.00000  0.122562     0.089409\n",
       "AveRooms   -0.00000 -0.294370    -0.000000\n",
       "AveBedrms  -0.00000  0.339209    -0.000000\n",
       "Population -0.00000 -0.002303    -0.000000\n",
       "AveOccup   -0.00000 -0.040830    -0.000000\n",
       "Latitude   -0.00000 -0.896776    -0.014989\n",
       "Longitude  -0.00000 -0.869687    -0.000000"
      ]
     },
     "metadata": {},
     "output_type": "display_data"
    },
    {
     "name": "stdout",
     "output_type": "stream",
     "text": [
      "\n",
      "Variables discarded by Lasso (coefficient == 0):\n",
      "['HouseAge', 'AveRooms', 'AveBedrms', 'Population', 'AveOccup', 'Latitude', 'Longitude']\n",
      "\n",
      "Variables discarded by Elastic-Net (coefficient == 0):\n",
      "['AveRooms', 'AveBedrms', 'Population', 'AveOccup', 'Longitude']\n",
      "\n",
      "Explanation of Coefficient Comparison:\n",
      "\n",
      "Ridge regression shrinks all coefficients towards zero but does not set any exactly to zero.\n",
      "Lasso regression (L1 regularization) can set some coefficients exactly to zero, effectively performing variable selection.\n",
      "In this case, Lasso discarded the following variables by setting their coefficients to zero: ['HouseAge', 'AveRooms', 'AveBedrms', 'Population', 'AveOccup', 'Latitude', 'Longitude']\n",
      "Elastic-Net regression combines L1 and L2 regularization.\n",
      "It performs both coefficient shrinkage (like Ridge) and can set some coefficients to zero (like Lasso).\n",
      "Elastic-Net discarded the following variables by setting their coefficients to zero: ['AveRooms', 'AveBedrms', 'Population', 'AveOccup', 'Longitude']\n",
      "The L1 penalty in Lasso and Elastic-Net promotes sparsity, leading to some coefficients becoming exactly zero.\n",
      "The L2 penalty in Ridge and Elastic-Net shrinks coefficients but typically does not force them to zero.\n"
     ]
    }
   ],
   "source": [
    "import pandas as pd\n",
    "\n",
    "# Create a DataFrame to store the coefficients\n",
    "coefficients_df = pd.DataFrame(index=independent_variables)\n",
    "\n",
    "# Add the coefficients from each model to the DataFrame\n",
    "coefficients_df['Lasso'] = lasso_model.coef_\n",
    "coefficients_df['Ridge'] = ridge_model.coef_\n",
    "coefficients_df['Elastic-Net'] = elastic_net_model.coef_\n",
    "\n",
    "# Print the coefficients DataFrame\n",
    "print(\"Comparison of Model Coefficients:\")\n",
    "display(coefficients_df)\n",
    "\n",
    "# Identify variables with coefficients of exactly zero in Lasso and Elastic-Net\n",
    "lasso_discarded_variables = coefficients_df[coefficients_df['Lasso'] == 0].index.tolist()\n",
    "elastic_net_discarded_variables = coefficients_df[coefficients_df['Elastic-Net'] == 0].index.tolist()\n",
    "\n",
    "print(\"\\nVariables discarded by Lasso (coefficient == 0):\")\n",
    "if lasso_discarded_variables:\n",
    "    print(lasso_discarded_variables)\n",
    "else:\n",
    "    print(\"No variables were discarded by Lasso.\")\n",
    "\n",
    "print(\"\\nVariables discarded by Elastic-Net (coefficient == 0):\")\n",
    "if elastic_net_discarded_variables:\n",
    "    print(elastic_net_discarded_variables)\n",
    "else:\n",
    "    print(\"No variables were discarded by Elastic-Net.\")\n",
    "\n",
    "# Explanation of coefficient comparison and discarding\n",
    "print(\"\\nExplanation of Coefficient Comparison:\\n\")\n",
    "print(\"Ridge regression shrinks all coefficients towards zero but does not set any exactly to zero.\")\n",
    "print(\"Lasso regression (L1 regularization) can set some coefficients exactly to zero, effectively performing variable selection.\")\n",
    "if lasso_discarded_variables:\n",
    "    print(f\"In this case, Lasso discarded the following variables by setting their coefficients to zero: {lasso_discarded_variables}\")\n",
    "else:\n",
    "    print(\"In this case, Lasso did not set any coefficients exactly to zero.\")\n",
    "print(\"Elastic-Net regression combines L1 and L2 regularization.\")\n",
    "print(\"It performs both coefficient shrinkage (like Ridge) and can set some coefficients to zero (like Lasso).\")\n",
    "if elastic_net_discarded_variables:\n",
    "     print(f\"Elastic-Net discarded the following variables by setting their coefficients to zero: {elastic_net_discarded_variables}\")\n",
    "else:\n",
    "    print(\"In this case, Elastic-Net did not set any coefficients exactly to zero.\")\n",
    "print(\"The L1 penalty in Lasso and Elastic-Net promotes sparsity, leading to some coefficients becoming exactly zero.\")\n",
    "print(\"The L2 penalty in Ridge and Elastic-Net shrinks coefficients but typically does not force them to zero.\")"
   ]
  },
  {
   "cell_type": "markdown",
   "id": "5b3f6cb6",
   "metadata": {},
   "source": [
    "10. **Ejecutar los modelos entrenados con los datos de prueba**\n",
    "Aqui vamos a ejecutar los modelos ya entrenados con los datos de pueba y calcularemos el error cuadrático medio (MSE) para compararlos."
   ]
  },
  {
   "cell_type": "code",
   "execution_count": 135,
   "id": "96876059",
   "metadata": {},
   "outputs": [
    {
     "name": "stdout",
     "output_type": "stream",
     "text": [
      "Model Performance on the Test Set with arbitrary values for alpha y ratio:\n",
      "\n",
      "Lasso Regression MSE: 0.7429\n",
      "Ridge Regression MSE: 0.5559\n",
      "Elastic-Net Regression MSE: 0.6978\n"
     ]
    }
   ],
   "source": [
    "from sklearn.metrics import mean_squared_error\n",
    "# Make predictions on the scaled test set using the tuned models\n",
    "dependent_variable_pred_lasso = lasso_model.predict(independent_test_scaled)\n",
    "dependent_variable_pred_ridge = ridge_model.predict(independent_test_scaled)\n",
    "dependent_variable_pred_elastic_net = elastic_net_model.predict(independent_test_scaled)\n",
    "\n",
    "# Calculate and print the Mean Squared Error (MSE) for each model\n",
    "mse_ridge = mean_squared_error(dependent_test, dependent_variable_pred_ridge)\n",
    "mse_lasso = mean_squared_error(dependent_test, dependent_variable_pred_lasso)\n",
    "mse_elastic_net = mean_squared_error(dependent_test, dependent_variable_pred_elastic_net)\n",
    "\n",
    "print(\"Model Performance on the Test Set with arbitrary values for alpha y ratio:\\n\")\n",
    "print(f\"Lasso Regression MSE: {mse_lasso:.4f}\")\n",
    "print(f\"Ridge Regression MSE: {mse_ridge:.4f}\")\n",
    "print(f\"Elastic-Net Regression MSE: {mse_elastic_net:.4f}\")"
   ]
  },
  {
   "cell_type": "markdown",
   "id": "728c970a",
   "metadata": {},
   "source": [
    "11.  **Optimización de Hiperparámetros:**\n",
    "    *   La efectividad de la regularización depende de la elección de `alpha`. Se utiliza validación cruzada (con `RidgeCV`, `LassoCV`, `ElasticNetCV`) para encontrar de forma automática el valor óptimo que minimiza el error en datos no vistos, garantizando el mejor rendimiento posible.\n"
   ]
  },
  {
   "cell_type": "code",
   "execution_count": 136,
   "id": "b698642e",
   "metadata": {},
   "outputs": [
    {
     "name": "stdout",
     "output_type": "stream",
     "text": [
      "Parameter grids defined:\n",
      "Lasso: {'alpha': [0.01, 0.1, 1, 10, 100]}\n",
      "Ridge: {'alpha': [0.01, 0.1, 1, 10, 100]}\n",
      "Elastic-Net: {'alpha': [0.01, 0.1, 1, 10, 100], 'l1_ratio': [0.1, 0.5, 0.9]}\n",
      "\n",
      "Best hyperparameters for Lasso: {'alpha': 0.01}\n",
      "Best hyperparameters for Ridge: {'alpha': 0.01}\n",
      "Best hyperparameters for Elastic-Net: {'alpha': 0.01, 'l1_ratio': 0.1}\n"
     ]
    }
   ],
   "source": [
    "from sklearn.model_selection import GridSearchCV\n",
    "from sklearn.linear_model import Ridge, Lasso, ElasticNet\n",
    "\n",
    "# Define parameter grid for Lasso\n",
    "param_grid_lasso = {'alpha': [ 0.01, 0.1, 1, 10, 100]}\n",
    "\n",
    "# Define parameter grid for Ridge\n",
    "param_grid_ridge = {'alpha': [ 0.01, 0.1, 1, 10, 100]}\n",
    "\n",
    "\n",
    "# Define parameter grid for Elastic-Net\n",
    "param_grid_elastic_net = {'alpha': [ 0.01, 0.1, 1, 10, 100],\n",
    "                          'l1_ratio': [0.1, 0.5, 0.9]}\n",
    "\n",
    "print(\"Parameter grids defined:\")\n",
    "print(\"Lasso:\", param_grid_lasso)\n",
    "print(\"Ridge:\", param_grid_ridge)\n",
    "print(\"Elastic-Net:\", param_grid_elastic_net)\n",
    "\n",
    "# Instantiate and fit GridSearchCV for Lasso\n",
    "grid_search_lasso = GridSearchCV(Lasso(), param_grid_lasso, cv=5)\n",
    "grid_search_lasso.fit(independent_train_scaled, dependent_train)\n",
    "\n",
    "# Instantiate and fit GridSearchCV for Ridge\n",
    "grid_search_ridge = GridSearchCV(Ridge(), param_grid_ridge, cv=5)\n",
    "grid_search_ridge.fit(independent_train_scaled, dependent_train)\n",
    "\n",
    "# Instantiate and fit GridSearchCV for Elastic-Net\n",
    "grid_search_elastic_net = GridSearchCV(ElasticNet(random_state=42), param_grid_elastic_net, cv=5)\n",
    "grid_search_elastic_net.fit(independent_train_scaled, dependent_train)\n",
    "\n",
    "# Print the best hyperparameters\n",
    "print(\"\\nBest hyperparameters for Lasso:\", grid_search_lasso.best_params_)\n",
    "print(\"Best hyperparameters for Ridge:\", grid_search_ridge.best_params_)\n",
    "print(\"Best hyperparameters for Elastic-Net:\", grid_search_elastic_net.best_params_)\n",
    "\n",
    "# Create a DataFrame to store the coefficients\n",
    "coefficients_df = pd.DataFrame(index=independent_variables)"
   ]
  },
  {
   "cell_type": "markdown",
   "id": "4e44678c",
   "metadata": {},
   "source": [
    "12.  **Comparación y Visualización de Resultados:** Se muestra los valores de MSE para los modelos con hiperparametros aleatorios y con hiperametros optimizados. Se observa que la MSE es muy similar para todos los modelos con los hiperparametros optimizados."
   ]
  },
  {
   "cell_type": "code",
   "execution_count": 137,
   "id": "618d3286",
   "metadata": {},
   "outputs": [
    {
     "data": {
      "application/vnd.microsoft.datawrangler.viewer.v0+json": {
       "columns": [
        {
         "name": "index",
         "rawType": "object",
         "type": "string"
        },
        {
         "name": "Lasso",
         "rawType": "float64",
         "type": "float"
        },
        {
         "name": "Ridge",
         "rawType": "float64",
         "type": "float"
        },
        {
         "name": "Elastic-Net",
         "rawType": "float64",
         "type": "float"
        }
       ],
       "ref": "0b3c37a1-11bf-4069-8358-365e1a55ab78",
       "rows": [
        [
         "MedInc",
         "0.8009574381665309",
         "0.8543824692520973",
         "0.8399035326498302"
        ],
        [
         "HouseAge",
         "0.12708700893832964",
         "0.1225470162976567",
         "0.13232569374387393"
        ],
        [
         "AveRooms",
         "-0.16275931275537467",
         "-0.2944081367921151",
         "-0.2533603897929114"
        ],
        [
         "AveBedrms",
         "0.2062074531361799",
         "0.33925697443989594",
         "0.29153840469513354"
        ],
        [
         "Population",
         "-0.0",
         "-0.0023074676797495484",
         "0.0"
        ],
        [
         "AveOccup",
         "-0.030601761642690073",
         "-0.04082914231101779",
         "-0.040125785632760126"
        ],
        [
         "Latitude",
         "-0.7901125382833254",
         "-0.8969212561620199",
         "-0.7887724906787253"
        ],
        [
         "Longitude",
         "-0.7556737928328293",
         "-0.8698340573817327",
         "-0.7594868182244932"
        ]
       ],
       "shape": {
        "columns": 3,
        "rows": 8
       }
      },
      "text/html": [
       "<div>\n",
       "<style scoped>\n",
       "    .dataframe tbody tr th:only-of-type {\n",
       "        vertical-align: middle;\n",
       "    }\n",
       "\n",
       "    .dataframe tbody tr th {\n",
       "        vertical-align: top;\n",
       "    }\n",
       "\n",
       "    .dataframe thead th {\n",
       "        text-align: right;\n",
       "    }\n",
       "</style>\n",
       "<table border=\"1\" class=\"dataframe\">\n",
       "  <thead>\n",
       "    <tr style=\"text-align: right;\">\n",
       "      <th></th>\n",
       "      <th>Lasso</th>\n",
       "      <th>Ridge</th>\n",
       "      <th>Elastic-Net</th>\n",
       "    </tr>\n",
       "  </thead>\n",
       "  <tbody>\n",
       "    <tr>\n",
       "      <th>MedInc</th>\n",
       "      <td>0.800957</td>\n",
       "      <td>0.854382</td>\n",
       "      <td>0.839904</td>\n",
       "    </tr>\n",
       "    <tr>\n",
       "      <th>HouseAge</th>\n",
       "      <td>0.127087</td>\n",
       "      <td>0.122547</td>\n",
       "      <td>0.132326</td>\n",
       "    </tr>\n",
       "    <tr>\n",
       "      <th>AveRooms</th>\n",
       "      <td>-0.162759</td>\n",
       "      <td>-0.294408</td>\n",
       "      <td>-0.253360</td>\n",
       "    </tr>\n",
       "    <tr>\n",
       "      <th>AveBedrms</th>\n",
       "      <td>0.206207</td>\n",
       "      <td>0.339257</td>\n",
       "      <td>0.291538</td>\n",
       "    </tr>\n",
       "    <tr>\n",
       "      <th>Population</th>\n",
       "      <td>-0.000000</td>\n",
       "      <td>-0.002307</td>\n",
       "      <td>0.000000</td>\n",
       "    </tr>\n",
       "    <tr>\n",
       "      <th>AveOccup</th>\n",
       "      <td>-0.030602</td>\n",
       "      <td>-0.040829</td>\n",
       "      <td>-0.040126</td>\n",
       "    </tr>\n",
       "    <tr>\n",
       "      <th>Latitude</th>\n",
       "      <td>-0.790113</td>\n",
       "      <td>-0.896921</td>\n",
       "      <td>-0.788772</td>\n",
       "    </tr>\n",
       "    <tr>\n",
       "      <th>Longitude</th>\n",
       "      <td>-0.755674</td>\n",
       "      <td>-0.869834</td>\n",
       "      <td>-0.759487</td>\n",
       "    </tr>\n",
       "  </tbody>\n",
       "</table>\n",
       "</div>"
      ],
      "text/plain": [
       "               Lasso     Ridge  Elastic-Net\n",
       "MedInc      0.800957  0.854382     0.839904\n",
       "HouseAge    0.127087  0.122547     0.132326\n",
       "AveRooms   -0.162759 -0.294408    -0.253360\n",
       "AveBedrms   0.206207  0.339257     0.291538\n",
       "Population -0.000000 -0.002307     0.000000\n",
       "AveOccup   -0.030602 -0.040829    -0.040126\n",
       "Latitude   -0.790113 -0.896921    -0.788772\n",
       "Longitude  -0.755674 -0.869834    -0.759487"
      ]
     },
     "metadata": {},
     "output_type": "display_data"
    },
    {
     "name": "stdout",
     "output_type": "stream",
     "text": [
      "\n",
      "Tuned Lasso Model Coefficients:\n",
      "[ 0.80095744  0.12708701 -0.16275931  0.20620745 -0.         -0.03060176\n",
      " -0.79011254 -0.75567379]\n",
      "Tuned Ridge Model Coefficients:\n",
      "[ 0.85438247  0.12254702 -0.29440814  0.33925697 -0.00230747 -0.04082914\n",
      " -0.89692126 -0.86983406]\n",
      "\n",
      "Tuned Elastic-Net Model Coefficients:\n",
      "[ 0.83990353  0.13232569 -0.25336039  0.2915384   0.         -0.04012579\n",
      " -0.78877249 -0.75948682]\n",
      "\n",
      "Model Performance on the Test Set (Tuned Models):\n",
      "Lasso Regression (Tuned) MSE: 0.5483\n",
      "Ridge Regression (Tuned) MSE: 0.5559\n",
      "Elastic-Net Regression (Tuned) MSE: 0.5519\n",
      "\n",
      "Model Performance on the Test Set with arbitrary values for alpha y ratio:\n",
      "\n",
      "Lasso Regression MSE: 0.7429\n",
      "Ridge Regression MSE: 0.5559\n",
      "Elastic-Net Regression MSE: 0.6978\n"
     ]
    }
   ],
   "source": [
    "from sklearn.linear_model import Ridge, Lasso, ElasticNet\n",
    "from sklearn.metrics import mean_squared_error\n",
    "\n",
    "# Instantiate and fit Lasso model with best hyperparameters\n",
    "best_lasso_alpha = grid_search_lasso.best_params_['alpha']\n",
    "lasso_model_tuned = Lasso(alpha=best_lasso_alpha)\n",
    "lasso_model_tuned.fit(independent_train_scaled, dependent_train)\n",
    "\n",
    "# Instantiate and fit Ridge model with best hyperparameters\n",
    "best_ridge_alpha = grid_search_ridge.best_params_['alpha']\n",
    "ridge_model_tuned = Ridge(alpha=best_ridge_alpha)\n",
    "ridge_model_tuned.fit(independent_train_scaled, dependent_train)\n",
    "\n",
    "# Instantiate and fit ElasticNet model with best hyperparameters\n",
    "best_elastic_net_alpha = grid_search_elastic_net.best_params_['alpha']\n",
    "best_elastic_net_l1_ratio = grid_search_elastic_net.best_params_['l1_ratio']\n",
    "elastic_net_model_tuned = ElasticNet(alpha=best_elastic_net_alpha, l1_ratio=best_elastic_net_l1_ratio, random_state=42)\n",
    "elastic_net_model_tuned.fit(independent_train_scaled, dependent_train)\n",
    "\n",
    "# Create a DataFrame to store the coefficients\n",
    "coefficients_tuned_df = pd.DataFrame(index=independent_variables)\n",
    "\n",
    "# Add the coefficients from each model to the DataFrame\n",
    "coefficients_tuned_df['Lasso'] = lasso_model_tuned.coef_\n",
    "coefficients_tuned_df['Ridge'] = ridge_model_tuned.coef_\n",
    "coefficients_tuned_df['Elastic-Net'] = elastic_net_model_tuned.coef_\n",
    "\n",
    "display(coefficients_tuned_df)\n",
    "\n",
    "# Print the coefficients of the tuned models\n",
    "print(\"\\nTuned Lasso Model Coefficients:\")\n",
    "print(lasso_model_tuned.coef_)\n",
    "\n",
    "print(\"Tuned Ridge Model Coefficients:\")\n",
    "print(ridge_model_tuned.coef_)\n",
    "\n",
    "print(\"\\nTuned Elastic-Net Model Coefficients:\")\n",
    "print(elastic_net_model_tuned.coef_)\n",
    "\n",
    "# Make predictions on the scaled test set using the tuned models\n",
    "dependent_variable_pred_lasso = lasso_model_tuned.predict(independent_test_scaled)\n",
    "dependent_variable_pred_ridge = ridge_model_tuned.predict(independent_test_scaled)\n",
    "dependent_variable_pred_elastic_net = elastic_net_model_tuned.predict(independent_test_scaled)\n",
    "\n",
    "# Calculate and print the Mean Squared Error (MSE) for each model\n",
    "mse_lasso_tuned = mean_squared_error(dependent_test, dependent_variable_pred_lasso)\n",
    "mse_ridge_tuned = mean_squared_error(dependent_test, dependent_variable_pred_ridge)\n",
    "mse_elastic_net_tuned = mean_squared_error(dependent_test, dependent_variable_pred_elastic_net)\n",
    "\n",
    "print(\"\\nModel Performance on the Test Set (Tuned Models):\")\n",
    "print(f\"Lasso Regression (Tuned) MSE: {mse_lasso_tuned:.4f}\")\n",
    "print(f\"Ridge Regression (Tuned) MSE: {mse_ridge_tuned:.4f}\")\n",
    "print(f\"Elastic-Net Regression (Tuned) MSE: {mse_elastic_net_tuned:.4f}\")\n",
    "\n",
    "print(\"\\nModel Performance on the Test Set with arbitrary values for alpha y ratio:\\n\")\n",
    "print(f\"Lasso Regression MSE: {mse_lasso:.4f}\")\n",
    "print(f\"Ridge Regression MSE: {mse_ridge:.4f}\")\n",
    "print(f\"Elastic-Net Regression MSE: {mse_elastic_net:.4f}\")\n"
   ]
  },
  {
   "cell_type": "markdown",
   "id": "88370fba",
   "metadata": {},
   "source": [
    "13. **Mejora del MSE usando hiperparametros optimizados** Esta gráfica muestra la mejore del MSE para los tres modelos cuando se usan hiperparametros optimizados. Como observación, el modelo Ridge (L2) no experimenta ninguna mejora."
   ]
  },
  {
   "cell_type": "code",
   "execution_count": null,
   "id": "ed8dde4e",
   "metadata": {},
   "outputs": [
    {
     "name": "stderr",
     "output_type": "stream",
     "text": [
      "/tmp/ipykernel_1375/945872871.py:52: FutureWarning: \n",
      "\n",
      "Passing `palette` without assigning `hue` is deprecated and will be removed in v0.14.0. Assign the `x` variable to `hue` and set `legend=False` for the same effect.\n",
      "\n",
      "  ax = sns.barplot(x=model_names, y=improvements, palette='viridis')\n"
     ]
    },
    {
     "data": {
      "image/png": "[encoded data removed]",
      "text/plain": [
       "<Figure size 1000x600 with 1 Axes>"
      ]
     },
     "metadata": {},
     "output_type": "display_data"
    }
   ],
   "source": [
    "import numpy as np\n",
    "import pandas as pd\n",
    "import matplotlib.pyplot as plt\n",
    "import seaborn as sns\n",
    "\n",
    "# --- 2. Cálculo de la Mejora Porcentual ---\n",
    "# Fórmula: ((Error_Inicial - Error_Final) / Error_Inicial) * 100\n",
    "improvement_ridge = ((mse_ridge - mse_ridge_tuned) / mse_ridge) * 100\n",
    "improvement_lasso = ((mse_lasso - mse_lasso_tuned) / mse_lasso) * 100\n",
    "improvement_elastic_net = ((mse_elastic_net - mse_elastic_net_tuned) / mse_elastic_net) * 100\n",
    "\n",
    "improvements = [improvement_ridge, improvement_lasso, improvement_elastic_net]\n",
    "model_names = ['Ridge', 'Lasso', 'ElasticNet']\n",
    "\n",
    "# --- 3. Creación del Gráfico de Barras ---\n",
    "sns.set_theme(style=\"whitegrid\")\n",
    "plt.figure(figsize=(10, 6))\n",
    "\n",
    "# Usamos seaborn para un estilo más agradable\n",
    "ax = sns.barplot(x=model_names, y=improvements, palette='viridis')\n",
    "\n",
    "# Añadir etiquetas y título\n",
    "ax.set_xlabel(\"Modelo\", fontsize=12)\n",
    "ax.set_ylabel(\"Mejora del MSE (%)\", fontsize=12)\n",
    "ax.set_title(\"Mejora Porcentual del MSE al Optimizar Alpha\", fontsize=16)\n",
    "\n",
    "# Añadir los valores porcentuales sobre cada barra\n",
    "for index, value in enumerate(improvements):\n",
    "    # Colocamos el texto ligeramente por encima de la barra\n",
    "    plt.text(x=index, y=value + 0.5, s=f'{value:.2f}%', ha='center', va='bottom', fontsize=11, weight='bold')\n",
    "\n",
    "# Añadir una línea en y=0 como referencia\n",
    "ax.axhline(0, color='grey', linewidth=0.8)\n",
    "\n",
    "# Ajustar los límites del eje Y para dar espacio a las etiquetas\n",
    "plt.ylim(0, max(improvements) * 1.15)\n",
    "\n",
    "plt.tight_layout()\n",
    "plt.show()\n"
   ]
  }
 ],
 "metadata": {
  "kernelspec": {
   "display_name": "Python 3",
   "language": "python",
   "name": "python3"
  },
  "language_info": {
   "codemirror_mode": {
    "name": "ipython",
    "version": 3
   },
   "file_extension": ".py",
   "mimetype": "text/x-python",
   "name": "python",
   "nbconvert_exporter": "python",
   "pygments_lexer": "ipython3",
   "version": "3.12.11"
  }
 },
 "nbformat": 4,
 "nbformat_minor": 5
}
